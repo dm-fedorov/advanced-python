{
 "cells": [
  {
   "cell_type": "code",
   "execution_count": 3,
   "metadata": {},
   "outputs": [
    {
     "name": "stdout",
     "output_type": "stream",
     "text": [
      "listcomp        : 0.035 0.050 0.021 0.009 0.009\n",
      "listcomp + func : 0.012 0.011 0.009 0.012 0.014\n",
      "filter + lambda : 0.012 0.010 0.010 0.010 0.010\n",
      "filter + func   : 0.010 0.010 0.011 0.010 0.010\n"
     ]
    }
   ],
   "source": [
    "%run listcomp_speed.py"
   ]
  },
  {
   "cell_type": "code",
   "execution_count": null,
   "metadata": {},
   "outputs": [],
   "source": []
  }
 ],
 "metadata": {
  "kernelspec": {
   "display_name": "Python 3",
   "language": "python",
   "name": "python3"
  },
  "language_info": {
   "codemirror_mode": {
    "name": "ipython",
    "version": 3
   },
   "file_extension": ".py",
   "mimetype": "text/x-python",
   "name": "python",
   "nbconvert_exporter": "python",
   "pygments_lexer": "ipython3",
   "version": "3.8.3"
  }
 },
 "nbformat": 4,
 "nbformat_minor": 4
}
