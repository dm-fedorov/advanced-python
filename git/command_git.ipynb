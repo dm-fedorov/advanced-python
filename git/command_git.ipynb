{
 "cells": [
  {
   "cell_type": "markdown",
   "metadata": {},
   "source": [
    "[Совместная работа над проектом Git + GitHub](https://www.youtube.com/watch?v=rnfHuWneMXA)   "
   ]
  },
  {
   "cell_type": "markdown",
   "metadata": {},
   "source": [
    "[Git branch — работа с ветками](https://www.youtube.com/watch?v=SZARWakrCro)"
   ]
  },
  {
   "cell_type": "markdown",
   "metadata": {},
   "source": [
    "[GitHub - How to create a team in GitHub](https://youtu.be/KOaufuMgdDk)"
   ]
  },
  {
   "cell_type": "code",
   "execution_count": null,
   "metadata": {},
   "outputs": [],
   "source": [
    "# репозиторий: https://github.com/dm-fedorov/my_python"
   ]
  },
  {
   "cell_type": "markdown",
   "metadata": {},
   "source": [
    "В другом аккаунте делаем fork репозитория."
   ]
  },
  {
   "cell_type": "markdown",
   "metadata": {},
   "source": [
    "Клонируем себе на локальную машину для работы."
   ]
  },
  {
   "cell_type": "code",
   "execution_count": null,
   "metadata": {},
   "outputs": [],
   "source": []
  }
 ],
 "metadata": {
  "kernelspec": {
   "display_name": "Python 3",
   "language": "python",
   "name": "python3"
  },
  "language_info": {
   "codemirror_mode": {
    "name": "ipython",
    "version": 3
   },
   "file_extension": ".py",
   "mimetype": "text/x-python",
   "name": "python",
   "nbconvert_exporter": "python",
   "pygments_lexer": "ipython3",
   "version": "3.8.3"
  }
 },
 "nbformat": 4,
 "nbformat_minor": 4
}
