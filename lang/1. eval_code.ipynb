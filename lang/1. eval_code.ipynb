{
 "cells": [
  {
   "cell_type": "markdown",
   "metadata": {},
   "source": [
    "![Image of VM Python](https://raw.githubusercontent.com/dm-fedorov/advanced-python/master/pic/vm_py.jpg)"
   ]
  },
  {
   "cell_type": "code",
   "execution_count": 1,
   "metadata": {},
   "outputs": [],
   "source": [
    "x = 30\n",
    "y = 62\n",
    "z = x + y"
   ]
  },
  {
   "cell_type": "code",
   "execution_count": 1,
   "metadata": {},
   "outputs": [],
   "source": [
    "def eval(code):\n",
    "    env = {}\n",
    "    stack = []\n",
    "    for line in code.strip().splitlines():\n",
    "        op, *args = line.split()\n",
    "        print(f\"env : {env}\\nstack: {stack}\\n\")\n",
    "        if op == \"LOAD_CONST\":\n",
    "            stack.append(int(args[0]))\n",
    "        elif op == \"STORE_NAME\":\n",
    "            env[args[0]] = stack.pop()\n",
    "        elif op == \"LOAD_NAME\":\n",
    "            stack.append(env[args[0]])\n",
    "        elif op == \"BINARY_ADD\":\n",
    "            stack.append(stack.pop() + stack.pop())\n",
    "        else:\n",
    "            assert False, f\"unknown op: {op[0]}\"\n",
    "    print(f\"env : {env}\\nstack: {stack}\\n\")"
   ]
  },
  {
   "cell_type": "code",
   "execution_count": 3,
   "metadata": {},
   "outputs": [
    {
     "name": "stdout",
     "output_type": "stream",
     "text": [
      "env : {}\n",
      "stack: []\n",
      "\n",
      "env : {}\n",
      "stack: [30]\n",
      "\n",
      "env : {'x': 30}\n",
      "stack: []\n",
      "\n",
      "env : {'x': 30}\n",
      "stack: [62]\n",
      "\n",
      "env : {'x': 30, 'y': 62}\n",
      "stack: []\n",
      "\n",
      "env : {'x': 30, 'y': 62}\n",
      "stack: [30]\n",
      "\n",
      "env : {'x': 30, 'y': 62}\n",
      "stack: [30, 62]\n",
      "\n",
      "env : {'x': 30, 'y': 62}\n",
      "stack: [92]\n",
      "\n",
      "env : {'x': 30, 'y': 62, 'z': 92}\n",
      "stack: []\n",
      "\n"
     ]
    }
   ],
   "source": [
    "eval(\"\"\"\n",
    "LOAD_CONST 30\n",
    "STORE_NAME x\n",
    "LOAD_CONST 62\n",
    "STORE_NAME y\n",
    "LOAD_NAME x\n",
    "LOAD_NAME y\n",
    "BINARY_ADD\n",
    "STORE_NAME z\n",
    "\"\"\")"
   ]
  },
  {
   "cell_type": "code",
   "execution_count": null,
   "metadata": {},
   "outputs": [],
   "source": []
  }
 ],
 "metadata": {
  "kernelspec": {
   "display_name": "Python 3",
   "language": "python",
   "name": "python3"
  },
  "language_info": {
   "codemirror_mode": {
    "name": "ipython",
    "version": 3
   },
   "file_extension": ".py",
   "mimetype": "text/x-python",
   "name": "python",
   "nbconvert_exporter": "python",
   "pygments_lexer": "ipython3",
   "version": "3.8.3"
  }
 },
 "nbformat": 4,
 "nbformat_minor": 4
}
