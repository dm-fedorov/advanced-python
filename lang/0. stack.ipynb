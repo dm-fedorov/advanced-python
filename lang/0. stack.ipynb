{
 "cells": [
  {
   "cell_type": "markdown",
   "metadata": {},
   "source": [
    "**[Стек](https://ru.wikipedia.org/wiki/%D0%A1%D1%82%D0%B5%D0%BA)** - это структура данных, в которую можно либо добавлять элемент, либо брать из нее последний добавленный. Функцию добавления в стек принято называть *push*, функцию изъятия – *pop*.\n",
    "\n",
    "Работает по принципу LIFO (Last In First Out).\n",
    "\n",
    "В Python тип данных list включает в себя реализацию стека. В нем есть метод pop(), вместо push используется append()."
   ]
  },
  {
   "cell_type": "code",
   "execution_count": 4,
   "metadata": {},
   "outputs": [
    {
     "name": "stdout",
     "output_type": "stream",
     "text": [
      "3\n",
      "2\n",
      "1\n"
     ]
    }
   ],
   "source": [
    "stack = []\n",
    "stack.append(1)\n",
    "stack.append(2)\n",
    "stack.append(3)\n",
    "print(stack.pop())\n",
    "print(stack.pop())\n",
    "print(stack.pop())"
   ]
  },
  {
   "cell_type": "markdown",
   "metadata": {},
   "source": [
    "### Задание 1\n",
    "\n",
    "Напишите калькулятор, который вычисляет арифметические выражения, заданные пользователем в постфиксной записи ([обратная польская запись](https://ru.wikipedia.org/wiki/%D0%9E%D0%B1%D1%80%D0%B0%D1%82%D0%BD%D0%B0%D1%8F_%D0%BF%D0%BE%D0%BB%D1%8C%D1%81%D0%BA%D0%B0%D1%8F_%D0%B7%D0%B0%D0%BF%D0%B8%D1%81%D1%8C)).\n",
    "\n",
    "Мы добавляем числа в стек. Когда мы сталкиваемся с оператором, мы извлекаем из стека столько элементов, сколько нужно в качестве операндов, мы производим операцию и помещаем результат в стек. В итоге результат оказывается на самом верху стека (и единственным его элементом). Например при вычислении \n",
    "```\n",
    "1 2 3 * + 2 - \n",
    "```\n",
    "стек, написанный горизонтально в квадратных скобках, становится \n",
    "```\n",
    "[ ], [1], [1 2], [1 2 3], [1 6], [7], [7 2], [5].\n",
    "```"
   ]
  },
  {
   "cell_type": "code",
   "execution_count": null,
   "metadata": {},
   "outputs": [],
   "source": [
    "# postfix_test.py\n",
    "def calc(expr):\n",
    "    '''\n",
    "    >>> calc(\"1 2 + 4 * 3 +\")\n",
    "    '15'\n",
    "    >>> calc(\"1 2 3 * + 2 -\")\n",
    "    '5'\n",
    "    '''\n",
    "\n",
    "    # ...  \n",
    "\n",
    "    return # ...\n",
    "\n",
    "#print(calc(\"1 2 3 * + 2 -\"))\n",
    "\n",
    "import doctest\n",
    "doctest.testmod()"
   ]
  },
  {
   "cell_type": "markdown",
   "metadata": {},
   "source": [
    "### Задание 2\n",
    "\n",
    "Напишите программу, которая читает последовательность символов-разграничителей, такую как ```( ) { [ ] ( ) { } }```, и сообщает, когда разграничители симметричны ```( { } ( ) )``` или когда несимметричны, например ```( ( ) }``` или ```{ ( )```.\n",
    "\n",
    "Используйте стек, чтобы запомнить открытые в настоящий момент символы-разграничители. "
   ]
  },
  {
   "cell_type": "code",
   "execution_count": null,
   "metadata": {},
   "outputs": [],
   "source": [
    "# delimiter_test.py\n",
    "def check_delimiter(s):\n",
    "    '''\n",
    "    >>> check_delimiter(\"( ) { [ ] ( ) { } }\")    \n",
    "    True\n",
    "    >>> check_delimiter(\"( ) { [ ] }\")    \n",
    "    True\n",
    "    >>> check_delimiter(\"( ) { [ ] ( ] { } }\")    \n",
    "    False\n",
    "    \n",
    "    '''\n",
    "\n",
    "    # ...\n",
    "    \n",
    "    return # ... \n",
    "\n",
    "import doctest\n",
    "doctest.testmod()"
   ]
  },
  {
   "cell_type": "code",
   "execution_count": null,
   "metadata": {},
   "outputs": [],
   "source": []
  }
 ],
 "metadata": {
  "kernelspec": {
   "display_name": "Python 3",
   "language": "python",
   "name": "python3"
  },
  "language_info": {
   "codemirror_mode": {
    "name": "ipython",
    "version": 3
   },
   "file_extension": ".py",
   "mimetype": "text/x-python",
   "name": "python",
   "nbconvert_exporter": "python",
   "pygments_lexer": "ipython3",
   "version": "3.8.3"
  }
 },
 "nbformat": 4,
 "nbformat_minor": 4
}
