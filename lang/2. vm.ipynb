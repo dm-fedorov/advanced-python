{
 "cells": [
  {
   "cell_type": "markdown",
   "metadata": {},
   "source": [
    "[Устройство CPython. Доклад Яндекса](https://habr.com/ru/company/yandex/blog/511972/) и [презентация](https://yadi.sk/i/dcNx5Sgix4axOA)"
   ]
  },
  {
   "cell_type": "code",
   "execution_count": 4,
   "metadata": {},
   "outputs": [
    {
     "name": "stdout",
     "output_type": "stream",
     "text": [
      "[('utf-8', 'ENCODING'),\n",
      " ('print', 'NAME'),\n",
      " ('(', 'OP'),\n",
      " ('222', 'NUMBER'),\n",
      " ('*', 'OP'),\n",
      " ('555', 'NUMBER'),\n",
      " (')', 'OP'),\n",
      " ('', 'NEWLINE'),\n",
      " ('', 'ENDMARKER')]\n"
     ]
    }
   ],
   "source": [
    "from tokenize import tokenize\n",
    "from io import BytesIO\n",
    "from token import tok_name\n",
    "import pprint\n",
    "\n",
    "code_string = 'print(222*555)'\n",
    "tokens = tokenize(BytesIO(code_string.encode('utf-8')).readline) # tokenize the string\n",
    "pprint.pprint([(token.string, tok_name[token.type]) for token in tokens])"
   ]
  },
  {
   "cell_type": "code",
   "execution_count": 6,
   "metadata": {},
   "outputs": [
    {
     "name": "stdout",
     "output_type": "stream",
     "text": [
      "(\"Module(body=[FunctionDef(name='to_power', args=arguments(posonlyargs=[], \"\n",
      " \"args=[arg(arg='a', annotation=None, type_comment=None), arg(arg='power', \"\n",
      " 'annotation=None, type_comment=None)], vararg=None, kwonlyargs=[], '\n",
      " 'kw_defaults=[], kwarg=None, defaults=[]), '\n",
      " \"body=[Return(value=BinOp(left=Name(id='a', ctx=Load()), op=Pow(), \"\n",
      " \"right=Name(id='power', ctx=Load())))], decorator_list=[], returns=None, \"\n",
      " 'type_comment=None)], type_ignores=[])')\n"
     ]
    }
   ],
   "source": [
    "import ast\n",
    "import pprint\n",
    "\n",
    "ast_object = ast.parse(\"def to_power(a, power):return a ** power;\")\n",
    "pprint.pprint(ast.dump(ast_object))\n",
    "\n",
    "# опимизация ast: https://habr.com/ru/company/piter/blog/493424/\n",
    "# https://habr.com/ru/post/314062/"
   ]
  },
  {
   "cell_type": "code",
   "execution_count": 14,
   "metadata": {},
   "outputs": [],
   "source": [
    "# Гвидо по первый парсер:\n",
    "# http://python-history.blogspot.com/2018/05/the-origins-of-pgen.html\n",
    "\n",
    "# https://ru.wikipedia.org/wiki/LL(1)\n",
    "\n",
    "# PEG-парсер заменит LL(1): https://tyvik.ru/posts/peg/\n",
    "# Python 3.9: https://www.python.org/dev/peps/pep-0617/"
   ]
  },
  {
   "cell_type": "markdown",
   "metadata": {},
   "source": [
    "[Writing a PEG parser for fun and profit\" - Guido van Rossum (North Bay Python 2019)](https://www.youtube.com/watch?v=QppWTvh7_sI)"
   ]
  },
  {
   "cell_type": "markdown",
   "metadata": {},
   "source": [
    "Классический [учебник про разработку компиляторов](https://drive.google.com/file/d/14X0uu3YuUyXwjksBWGODjTa4GrJOjUeR/view?usp=sharing)."
   ]
  },
  {
   "cell_type": "markdown",
   "metadata": {},
   "source": [
    "Красивый вывод [ast](https://astunparse.readthedocs.io/en/latest/):"
   ]
  },
  {
   "cell_type": "code",
   "execution_count": null,
   "metadata": {},
   "outputs": [],
   "source": [
    "#!pip3 install unparse "
   ]
  },
  {
   "cell_type": "code",
   "execution_count": null,
   "metadata": {},
   "outputs": [],
   "source": [
    "#!pip3 install astunparse"
   ]
  },
  {
   "cell_type": "code",
   "execution_count": 13,
   "metadata": {},
   "outputs": [
    {
     "name": "stdout",
     "output_type": "stream",
     "text": [
      "('Module(\\n'\n",
      " '  body=[FunctionDef(\\n'\n",
      " \"    name='to_power',\\n\"\n",
      " '    args=arguments(\\n'\n",
      " '      posonlyargs=[],\\n'\n",
      " '      args=[\\n'\n",
      " '        arg(\\n'\n",
      " \"          arg='a',\\n\"\n",
      " '          annotation=None,\\n'\n",
      " '          type_comment=None),\\n'\n",
      " '        arg(\\n'\n",
      " \"          arg='power',\\n\"\n",
      " '          annotation=None,\\n'\n",
      " '          type_comment=None)],\\n'\n",
      " '      vararg=None,\\n'\n",
      " '      kwonlyargs=[],\\n'\n",
      " '      kw_defaults=[],\\n'\n",
      " '      kwarg=None,\\n'\n",
      " '      defaults=[]),\\n'\n",
      " '    body=[Return(value=BinOp(\\n'\n",
      " '      left=Name(\\n'\n",
      " \"        id='a',\\n\"\n",
      " '        ctx=Load()),\\n'\n",
      " '      op=Pow(),\\n'\n",
      " '      right=Name(\\n'\n",
      " \"        id='power',\\n\"\n",
      " '        ctx=Load())))],\\n'\n",
      " '    decorator_list=[],\\n'\n",
      " '    returns=None,\\n'\n",
      " '    type_comment=None)],\\n'\n",
      " '  type_ignores=[])')\n"
     ]
    }
   ],
   "source": [
    "import ast\n",
    "import astunparse\n",
    "import pprint\n",
    "\n",
    "# get a pretty-printed dump of the AST\n",
    "pprint.pprint(astunparse.dump(ast.parse(\"def to_power(a, power):return a ** power;\")))"
   ]
  },
  {
   "cell_type": "markdown",
   "metadata": {},
   "source": [
    "Детали реализации, разбор кода на C:"
   ]
  },
  {
   "cell_type": "markdown",
   "metadata": {},
   "source": [
    "[Внутри виртуальной машины Python. Часть 1](https://habr.com/ru/post/501338/)\n",
    "\n",
    "[Внутри виртуальной машины Python. Часть 2](https://habr.com/ru/post/501920/)"
   ]
  }
 ],
 "metadata": {
  "kernelspec": {
   "display_name": "Python 3",
   "language": "python",
   "name": "python3"
  },
  "language_info": {
   "codemirror_mode": {
    "name": "ipython",
    "version": 3
   },
   "file_extension": ".py",
   "mimetype": "text/x-python",
   "name": "python",
   "nbconvert_exporter": "python",
   "pygments_lexer": "ipython3",
   "version": "3.8.3"
  }
 },
 "nbformat": 4,
 "nbformat_minor": 4
}
