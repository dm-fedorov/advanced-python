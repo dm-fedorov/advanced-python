{
 "cells": [
  {
   "cell_type": "code",
   "execution_count": 2,
   "metadata": {},
   "outputs": [],
   "source": [
    "import dis\n",
    "# https://docs.python.org/3/library/dis.html"
   ]
  },
  {
   "cell_type": "markdown",
   "metadata": {},
   "source": [
    "[/Include/opcode.h](https://github.com/python/cpython/blob/3.8/Include/opcode.h)"
   ]
  },
  {
   "cell_type": "code",
   "execution_count": 6,
   "metadata": {},
   "outputs": [
    {
     "name": "stdout",
     "output_type": "stream",
     "text": [
      "  1           0 LOAD_CONST               0 (30)\n",
      "              2 STORE_NAME               0 (x)\n",
      "              4 LOAD_CONST               1 (62)\n",
      "              6 STORE_NAME               1 (y)\n",
      "              8 LOAD_NAME                0 (x)\n",
      "             10 LOAD_NAME                1 (y)\n",
      "             12 BINARY_ADD\n",
      "             14 STORE_NAME               2 (z)\n",
      "             16 LOAD_CONST               2 (None)\n",
      "             18 RETURN_VALUE\n"
     ]
    }
   ],
   "source": [
    "dis.dis(\"\"\"x = 30;y = 62; z = x + y;\"\"\")"
   ]
  },
  {
   "cell_type": "markdown",
   "metadata": {},
   "source": [
    "про стек [книга](https://drive.google.com/file/d/1-Cp8XlPnjEecFuTYNDfcIpBm4jZLqin8/view?usp=sharing)"
   ]
  },
  {
   "cell_type": "code",
   "execution_count": 7,
   "metadata": {},
   "outputs": [],
   "source": [
    "# https://habr.com/ru/company/yandex/blog/511972/"
   ]
  },
  {
   "cell_type": "code",
   "execution_count": 8,
   "metadata": {},
   "outputs": [],
   "source": [
    "# http://www.aosabook.org/en/500L/a-python-interpreter-written-in-python.html"
   ]
  },
  {
   "cell_type": "code",
   "execution_count": 9,
   "metadata": {},
   "outputs": [],
   "source": [
    "# https://www.ics.uci.edu/~brgallar/week9_3.html"
   ]
  },
  {
   "cell_type": "code",
   "execution_count": 10,
   "metadata": {},
   "outputs": [],
   "source": [
    "# https://csl.name/post/vm/"
   ]
  },
  {
   "cell_type": "code",
   "execution_count": null,
   "metadata": {},
   "outputs": [],
   "source": []
  }
 ],
 "metadata": {
  "kernelspec": {
   "display_name": "Python 3",
   "language": "python",
   "name": "python3"
  },
  "language_info": {
   "codemirror_mode": {
    "name": "ipython",
    "version": 3
   },
   "file_extension": ".py",
   "mimetype": "text/x-python",
   "name": "python",
   "nbconvert_exporter": "python",
   "pygments_lexer": "ipython3",
   "version": "3.8.3"
  }
 },
 "nbformat": 4,
 "nbformat_minor": 4
}
