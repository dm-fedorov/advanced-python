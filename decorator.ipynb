{
 "cells": [
  {
   "cell_type": "markdown",
   "metadata": {},
   "source": [
    "В своей основе декораторы Python позволяют расширять и изменять поведение вызываемых объектов (функций, методов и классов) без необратимой модификации самих вызываемых объектов.\n",
    "\n",
    "Любая достаточно универсальная функциональность, которую можно прикрепить к существующему классу или поведению функции, является отличным кандидатом для декорирования. Сюда входят:\n",
    "\n",
    "- ведение протокола операций (журналирование);\n",
    "- обеспечение контроля за доступом и аутентификацией;\n",
    "- функции инструментального оформления и хронометража;\n",
    "- ограничение частоты вызова API;\n",
    "- кэширование и др."
   ]
  },
  {
   "cell_type": "markdown",
   "metadata": {},
   "source": [
    "Предположим, в вашей программе составления отчетности есть 30 функций с бизнес-логикой. Одним дождливым утром понедельника ваш босс подходит к вашему столу и заявляет: \n",
    "\n",
    "«Доброго понедельника! Помните ту отчетность по TPS? Мне нужно, чтобы вы в каждый шаг генератора отчетов добавили ведение протокола входных и выходных операций. Компании XYZ это нужно для аудиторских целей. Да, и еще. Я им сказал, что к среде мы сможем все отправить». "
   ]
  },
  {
   "cell_type": "markdown",
   "metadata": {},
   "source": [
    "Без декораторов следующие три дня вам пришлось бы провести в попытках модифицировать каждую из этих 30 функций, приводя их в полный беспорядок ручными вызовами операции журналирования. Чудесно, не правда ли? \n",
    "А если вы знаете свои декораторы, вы спокойно улыбнетесь своему боссу и скажете: «Не беспокойся, Джим. Я сделаю это сегодня к 14:00»."
   ]
  },
  {
   "cell_type": "markdown",
   "metadata": {},
   "source": [
    "Декораторы позволяют определять конструктивные блоки многократного использования, которые могут изменять или расширять поведение других функций. И они позволяют это делать без необратимых изменений самой\n",
    "обернутой функции. Поведение функции изменяется, только когда оно декорировано.\n",
    "\n",
    "Декоратор — это вызываемый объект, который на входе принимает один вызываемый объект, а на выходе возвращает другой вызываемый объект. \n",
    "Приведенная ниже функция имеет это свойство и может считаться самым простым декоратором, который вы могли когда-либо написать:"
   ]
  },
  {
   "cell_type": "code",
   "execution_count": 1,
   "metadata": {},
   "outputs": [],
   "source": [
    "def null_decorator(func):\n",
    "    return func"
   ]
  },
  {
   "cell_type": "markdown",
   "metadata": {},
   "source": [
    "Как вы видите, **null_decorator** является вызываемым объектом (это функция). На входе он принимает еще один вызываемый объект и на выходе возвращает тот же самый вызываемый объект без его изменения."
   ]
  },
  {
   "cell_type": "markdown",
   "metadata": {},
   "source": [
    "Давайте его применим, чтобы декорировать (или обернуть) еще одну функцию:"
   ]
  },
  {
   "cell_type": "code",
   "execution_count": 2,
   "metadata": {},
   "outputs": [],
   "source": [
    "def greet():\n",
    "    return 'Привет!'"
   ]
  },
  {
   "cell_type": "code",
   "execution_count": 3,
   "metadata": {},
   "outputs": [],
   "source": [
    "greet = null_decorator(greet)"
   ]
  },
  {
   "cell_type": "code",
   "execution_count": 4,
   "metadata": {},
   "outputs": [
    {
     "data": {
      "text/plain": [
       "'Привет!'"
      ]
     },
     "execution_count": 4,
     "metadata": {},
     "output_type": "execute_result"
    }
   ],
   "source": [
    "greet()"
   ]
  },
  {
   "cell_type": "code",
   "execution_count": 5,
   "metadata": {},
   "outputs": [
    {
     "data": {
      "text/plain": [
       "<function __main__.greet()>"
      ]
     },
     "execution_count": 5,
     "metadata": {},
     "output_type": "execute_result"
    }
   ],
   "source": [
    "greet"
   ]
  },
  {
   "cell_type": "code",
   "execution_count": 6,
   "metadata": {},
   "outputs": [
    {
     "data": {
      "text/plain": [
       "<function __main__.greet()>"
      ]
     },
     "execution_count": 6,
     "metadata": {},
     "output_type": "execute_result"
    }
   ],
   "source": [
    "null_decorator(greet)"
   ]
  },
  {
   "cell_type": "markdown",
   "metadata": {},
   "source": [
    "В этом примере я определил функцию **greet** и сразу же ее декорировал, пропустив через функцию **null_decorator**. Понимаю, пока это все выглядит бесполезным. Я ведь о том, что мы намеренно  спроектировали пустой декоратор бесполезным, верно? Но через мгновение этот пример разъяснит, как работает специальный синтаксис Python, предназначенный для декораторов.\n",
    "\n",
    "Вместо того чтобы явным образом вызывать **null_decorator** с функцией **greet** и затем по-новому присваивать его переменной, удобнее воспользоваться синтаксисом Python **@** для декорирования функции:"
   ]
  },
  {
   "cell_type": "code",
   "execution_count": 7,
   "metadata": {},
   "outputs": [],
   "source": [
    "@null_decorator\n",
    "def greet():\n",
    "    return 'Привет!'"
   ]
  },
  {
   "cell_type": "code",
   "execution_count": 8,
   "metadata": {},
   "outputs": [
    {
     "data": {
      "text/plain": [
       "'Привет!'"
      ]
     },
     "execution_count": 8,
     "metadata": {},
     "output_type": "execute_result"
    }
   ],
   "source": [
    "greet()"
   ]
  },
  {
   "cell_type": "markdown",
   "metadata": {},
   "source": [
    "Размещение строки **@null_decorator** перед определением функции аналогично тому, что функция сначала определяется и затем уже прогоняется через декоратор. Синтаксис **@** является всего лишь *синтаксическим сахаром (syntactic sugar)* и краткой формой для этого широко применяемого шаблона.\n",
    "\n",
    "Обратите внимание: синтаксис **@** декорирует функцию непосредственно во время ее определения. При этом становится трудно получить доступ к недекорированному оригиналу без хрупких хакерских фокусов. По этой\n",
    "причине вы можете решить вручную декорировать некоторые функции для сохранения способности вызвать и недекорированную функцию."
   ]
  },
  {
   "cell_type": "markdown",
   "metadata": {},
   "source": [
    "## Декораторы могут менять поведение"
   ]
  },
  {
   "cell_type": "markdown",
   "metadata": {},
   "source": [
    "Теперь, когда вы чуть ближе познакомились с синтаксисом декораторов, давайте напишем еще один декоратор, который действительно что-то делает и изменяет поведение декорированной функции.\n",
    "\n",
    "Вот чуть более сложный декоратор, который преобразовывает результат декорированной функции в буквы верхнего регистра:"
   ]
  },
  {
   "cell_type": "code",
   "execution_count": 9,
   "metadata": {},
   "outputs": [],
   "source": [
    "def uppercase(func):\n",
    "    def wrapper():\n",
    "        original_result = func()\n",
    "        modified_result = original_result.upper()\n",
    "        return modified_result\n",
    "    return wrapper"
   ]
  },
  {
   "cell_type": "markdown",
   "metadata": {},
   "source": [
    "Вместо того чтобы просто возвратить входную функцию, как это делал пустой декоратор, декоратор **uppercase** на лету определяет новую функцию *(замыкание)* и использует ее в качестве обертки входной функции, чтобы изменить ее поведение во время вызова.\n",
    "\n",
    "Замыкание **wrapper** имеет доступ к недекорированной входной функции, и оно свободно может выполнить дополнительный программный код до и после ее вызова. (Технически замыканию вообще не нужно вызывать\n",
    "входную функцию.) \n",
    "\n",
    "Заметьте, что вплоть до настоящего момента декорированная функция ни разу не была исполнена. На самом деле, в вызове входной функции на данном этапе нет никакого смысла — потребность в том, чтобы декоратор\n",
    "был в состоянии изменить поведение своей входной функции, возникнет, только когда он наконец будет вызван."
   ]
  },
  {
   "cell_type": "code",
   "execution_count": 10,
   "metadata": {},
   "outputs": [],
   "source": [
    "@uppercase\n",
    "def greet():\n",
    "    return 'Привет!' "
   ]
  },
  {
   "cell_type": "code",
   "execution_count": 11,
   "metadata": {},
   "outputs": [
    {
     "data": {
      "text/plain": [
       "'ПРИВЕТ!'"
      ]
     },
     "execution_count": 11,
     "metadata": {},
     "output_type": "execute_result"
    }
   ],
   "source": [
    "greet()"
   ]
  },
  {
   "cell_type": "markdown",
   "metadata": {},
   "source": [
    "В отличие от **null_decorator**, декоратор **uppercase** при декорировании функции возвращает другой объект-функцию:"
   ]
  },
  {
   "cell_type": "code",
   "execution_count": 12,
   "metadata": {},
   "outputs": [
    {
     "data": {
      "text/plain": [
       "<function __main__.uppercase.<locals>.wrapper()>"
      ]
     },
     "execution_count": 12,
     "metadata": {},
     "output_type": "execute_result"
    }
   ],
   "source": [
    "uppercase(greet) "
   ]
  },
  {
   "cell_type": "markdown",
   "metadata": {},
   "source": [
    "И как вы видели чуть раньше, ему это нужно, чтобы изменить поведение декорированной функции, когда он в итоге будет вызван. Декоратор **uppercase** сам является функцией. И единственный способ повлиять на\n",
    "«будущее поведение» входной функции, которую он декорирует, состоит в том, чтобы подменить (или обернуть) входную функцию замыканием.\n",
    "\n",
    "Вот почему декоратор **uppercase** определяет и возвращает еще одну функцию (замыкание), которая затем может быть вызвана в дальнейшем, выполняет оригинальную входную функцию и модифицирует ее результат.\n",
    "\n",
    "Декораторы изменяют поведение вызываемого объекта посредством обертки-замыкания, в результате чего вам не приходится необратимо модифицировать оригинал. Оригинальный вызываемый объект не изменяется необратимо — его поведение меняется, только когда он декорирован.\n",
    "\n",
    "Это позволяет прикреплять к существующим функциям и классам конструктивные блоки многократного использования, в частности функционал журналирования и другое инструментальное оформление. Этот\n",
    "факт делает декораторы настолько мощным функциональным средством языка, что они нередко используются в стандартной библиотеке Python и в сторонних пакетах."
   ]
  },
  {
   "cell_type": "markdown",
   "metadata": {},
   "source": [
    "## Применение многочисленных декораторов к функции"
   ]
  },
  {
   "cell_type": "markdown",
   "metadata": {},
   "source": [
    "Возможно, вас не удивит, что к функции можно применять более одного декоратора. В этом случае их эффекты накапливаются, и именно этот факт делает декораторы столь полезными в качестве структурных блоков многократного использования.\n",
    "\n",
    "Приведем пример. Представленные ниже два декоратора обертывают выходную строку декорированной функции в HTML-теги. Глядя на то, как теги вложены, вы видите, в каком порядке Python применяет многочисленные декораторы:"
   ]
  },
  {
   "cell_type": "code",
   "execution_count": 13,
   "metadata": {},
   "outputs": [],
   "source": [
    "def strong(func):\n",
    "    def wrapper():\n",
    "        return '<strong>' + func() + '</strong>'\n",
    "    return wrapper\n",
    "\n",
    "def emphasis(func):\n",
    "    def wrapper():\n",
    "        return '<em>' + func() + '</em>'\n",
    "    return wrapper"
   ]
  },
  {
   "cell_type": "markdown",
   "metadata": {},
   "source": [
    "Теперь давайте возьмем эти два декоратора и одновременно применим их к нашей функции greet. Для этого вы можете использовать обычный синтаксис **@** и просто «уложить» многочисленные декораторы вертикально\n",
    "поверх одной-единственной функции:"
   ]
  },
  {
   "cell_type": "code",
   "execution_count": 14,
   "metadata": {},
   "outputs": [],
   "source": [
    "@strong\n",
    "@emphasis\n",
    "def greet():\n",
    "    return 'Привет!'"
   ]
  },
  {
   "cell_type": "code",
   "execution_count": 15,
   "metadata": {},
   "outputs": [
    {
     "data": {
      "text/plain": [
       "'<strong><em>Привет!</em></strong>'"
      ]
     },
     "execution_count": 15,
     "metadata": {},
     "output_type": "execute_result"
    }
   ],
   "source": [
    "greet()"
   ]
  },
  {
   "cell_type": "markdown",
   "metadata": {},
   "source": [
    "Этот результат ясно показывает, в каком порядке декораторы были применены: снизу вверх. Сначала входная функция была обернута декоратором **@emphasis**, и затем результирующая (декорированная) функция снова\n",
    "была обернута декоратором **@strong**."
   ]
  },
  {
   "cell_type": "markdown",
   "metadata": {},
   "source": [
    "Если разложить приведенный выше пример и избавиться от синтаксиса **@**, который применяют декораторы, то цепочка вызовов функций-декораторов выглядит так:     "
   ]
  },
  {
   "cell_type": "code",
   "execution_count": 16,
   "metadata": {},
   "outputs": [],
   "source": [
    "decorated_greet = strong(emphasis(greet))"
   ]
  },
  {
   "cell_type": "code",
   "execution_count": 17,
   "metadata": {},
   "outputs": [
    {
     "data": {
      "text/plain": [
       "'<strong><em><strong><em>Привет!</em></strong></em></strong>'"
      ]
     },
     "execution_count": 17,
     "metadata": {},
     "output_type": "execute_result"
    }
   ],
   "source": [
    "decorated_greet()"
   ]
  },
  {
   "cell_type": "markdown",
   "metadata": {},
   "source": [
    "## Декорирование функций, принимающих аргументы"
   ]
  },
  {
   "cell_type": "markdown",
   "metadata": {},
   "source": [
    "Все примеры пока что декорировали только простую нульарную функцию **greet**, которая вообще не принимала никаких аргументов. \n",
    "Вплоть до этого момента декораторам, которые вы здесь видели, не было дела до переадресации аргументов во входную функцию.\n",
    "Если применить один из этих декораторов к функции, которая принимает аргументы, то она не заработает правильно. Тогда как декорировать функцию, которая принимает произвольные аргументы?"
   ]
  },
  {
   "cell_type": "markdown",
   "metadata": {},
   "source": [
    "### Вспомним про \\*args и \\*\\*kwargs"
   ]
  },
  {
   "cell_type": "code",
   "execution_count": 18,
   "metadata": {},
   "outputs": [],
   "source": [
    "def foo(required, *args, **kwargs):\n",
    "    print(required)\n",
    "    if args:\n",
    "        print(args)\n",
    "    if kwargs:\n",
    "        print(kwargs)"
   ]
  },
  {
   "cell_type": "code",
   "execution_count": 19,
   "metadata": {},
   "outputs": [
    {
     "name": "stdout",
     "output_type": "stream",
     "text": [
      "1\n",
      "(2, 3, 4)\n",
      "{'key1': 5, 'key2': 6}\n"
     ]
    }
   ],
   "source": [
    "foo(1, 2, 3, 4, key1=5, key2=6)"
   ]
  },
  {
   "cell_type": "markdown",
   "metadata": {},
   "source": [
    "Приведенная выше функция требует по крайней мере одного аргумента под названием «required», то есть обязательный, но она также может принимать дополнительные позиционные и именованные аргументы.\n",
    "\n",
    "Если мы вызовем функцию с дополнительными аргументами, то **args** соберет дополнительные позиционные аргументы в кортеж, потому что имя параметра имеет префикс \\*.\n",
    "\n",
    "Аналогичным образом, **kwargs** соберет дополнительные именованные аргументы в словарь, потому что имя параметра имеет префикс \\*\\*.\n",
    "\n",
    "Сразу хочу прояснить. Название параметров **args** и **kwargs** принято по договоренности, как согласованное правило именования. Приведенный выше пример будет работать точно так же, если вы назовете их \\*parms и \\*\\*argv. Фактическим синтаксисом является, соответственно, просто звездочка (\\*) или двойная звездочка (\\*\\*)."
   ]
  },
  {
   "cell_type": "markdown",
   "metadata": {},
   "source": [
    "### Вспомним про распаковку аргументов\n",
    "\n",
    "Существует возможность передавать необязательные или именованные параметры из одной функции в другую. Это можно делать при помощи операторов распаковки аргументов \\* и \\*\\* во время вызова функции, в которую вы хотите переадресовать аргументы."
   ]
  },
  {
   "cell_type": "markdown",
   "metadata": {},
   "source": [
    "Это также дает вам возможность модифицировать аргументы перед тем, как вы передадите их дальше. Вот пример:"
   ]
  },
  {
   "cell_type": "code",
   "execution_count": 20,
   "metadata": {},
   "outputs": [],
   "source": [
    "def bar(a, b, c, name='Ivan', color='red'):\n",
    "    print(a, b, c, name, color)"
   ]
  },
  {
   "cell_type": "code",
   "execution_count": 21,
   "metadata": {},
   "outputs": [],
   "source": [
    "def foo(x, *args, **kwargs):\n",
    "    kwargs['name'] = 'Alice'\n",
    "    new_args = args + (3, )\n",
    "    bar(x, *new_args, **kwargs)"
   ]
  },
  {
   "cell_type": "code",
   "execution_count": 22,
   "metadata": {},
   "outputs": [
    {
     "name": "stdout",
     "output_type": "stream",
     "text": [
      "1 2 3 Alice green\n"
     ]
    }
   ],
   "source": [
    "foo(1, 2, color='green')"
   ]
  },
  {
   "cell_type": "markdown",
   "metadata": {},
   "source": [
    "Вот где на помощь приходят функциональные средства языка Python \\*args и \\*\\*kwargs для работы с неизвестными количествами аргументов. \n",
    "\n",
    "Ниже приведен декоратор **proxy**, в котором задействуется их преимущество:"
   ]
  },
  {
   "cell_type": "code",
   "execution_count": 23,
   "metadata": {},
   "outputs": [],
   "source": [
    "def proxy(func):\n",
    "    def wrapper(*args, **kwargs):\n",
    "        return func(*args, **kwargs)\n",
    "    return wrapper"
   ]
  },
  {
   "cell_type": "markdown",
   "metadata": {},
   "source": [
    "С этим декоратором происходят две вещи, заслуживающие внимания:\n",
    "- В определении замыкания **wrapper** он использует операторы \\* и \\*\\*, чтобы собрать все позиционные и именованные аргументы, и помещает их в переменные (**args** и **kwargs**).\n",
    "- Замыкание **wrapper** затем переадресует собранные аргументы в оригинальную входную функцию, используя операторы «распаковки аргументов» \\* и \\*\\*."
   ]
  },
  {
   "cell_type": "markdown",
   "metadata": {},
   "source": [
    "Давайте расширим прием, сформулированный декоратором **proxy**, в более полезный практический пример. \n",
    "Ниже приведен декоратор **trace**, который регистрирует аргументы функции и итоговые результаты, полученные во время исполнения:"
   ]
  },
  {
   "cell_type": "code",
   "execution_count": 24,
   "metadata": {},
   "outputs": [],
   "source": [
    "def trace(func):\n",
    "    def wrapper(*args, **kwargs):\n",
    "        print(f'ТРАССИРОВКА: вызвана {func.__name__}() с {args}, {kwargs}')\n",
    "        original_result = func(*args, **kwargs)\n",
    "        print(f'ТРАССИРОВКА: {func.__name__}() вернула {original_result}')\n",
    "        return original_result\n",
    "    return wrapper"
   ]
  },
  {
   "cell_type": "markdown",
   "metadata": {},
   "source": [
    "При декорировании функции с использованием декоратора **trace** и последующем ее вызове, будут выведены переданные в декорированную функцию аргументы и возвращаемое ею значение. \n",
    "Этот пример по-прежнему остается несколько «игрушечным» — но в случае крайней необходимости он становится отличным средством отладки:"
   ]
  },
  {
   "cell_type": "code",
   "execution_count": 25,
   "metadata": {},
   "outputs": [],
   "source": [
    "@trace \n",
    "def say(name, line):\n",
    "    return f'{name}: {line}'"
   ]
  },
  {
   "cell_type": "code",
   "execution_count": 26,
   "metadata": {},
   "outputs": [
    {
     "name": "stdout",
     "output_type": "stream",
     "text": [
      "ТРАССИРОВКА: вызвана say() с ('Джейн', 'Привет, Мир'), {}\n",
      "ТРАССИРОВКА: say() вернула Джейн: Привет, Мир\n"
     ]
    },
    {
     "data": {
      "text/plain": [
       "'Джейн: Привет, Мир'"
      ]
     },
     "execution_count": 26,
     "metadata": {},
     "output_type": "execute_result"
    }
   ],
   "source": [
    "say('Джейн', 'Привет, Мир')"
   ]
  },
  {
   "cell_type": "markdown",
   "metadata": {},
   "source": [
    "## Как писать «отлаживаемые» декораторы"
   ]
  },
  {
   "cell_type": "markdown",
   "metadata": {},
   "source": [
    "При использовании декоратора вы на самом деле только подменяете одну функцию другой. Оборотной стороной этого процесса является то, что он «скрывает» некоторые метаданные, закрепленные за оригинальной (недекорированной) функцией."
   ]
  },
  {
   "cell_type": "markdown",
   "metadata": {},
   "source": [
    "Например, оригинальное имя функции, ее строка документации docstring и список параметров скрыты замыканием-оберткой:"
   ]
  },
  {
   "cell_type": "code",
   "execution_count": 27,
   "metadata": {},
   "outputs": [],
   "source": [
    "def greet():\n",
    "    \"\"\"Вернуть дружеское приветствие.\"\"\"\n",
    "    return 'Привет!'"
   ]
  },
  {
   "cell_type": "code",
   "execution_count": 28,
   "metadata": {},
   "outputs": [],
   "source": [
    "decorated_greet = uppercase(greet)"
   ]
  },
  {
   "cell_type": "markdown",
   "metadata": {},
   "source": [
    "При попытке получить доступ к каким-либо из этих метаданных функции вместо них вы увидите метаданные замыкания-обертки:"
   ]
  },
  {
   "cell_type": "code",
   "execution_count": 29,
   "metadata": {},
   "outputs": [
    {
     "data": {
      "text/plain": [
       "'greet'"
      ]
     },
     "execution_count": 29,
     "metadata": {},
     "output_type": "execute_result"
    }
   ],
   "source": [
    "greet.__name__"
   ]
  },
  {
   "cell_type": "code",
   "execution_count": 30,
   "metadata": {},
   "outputs": [
    {
     "data": {
      "text/plain": [
       "'Вернуть дружеское приветствие.'"
      ]
     },
     "execution_count": 30,
     "metadata": {},
     "output_type": "execute_result"
    }
   ],
   "source": [
    "greet.__doc__"
   ]
  },
  {
   "cell_type": "code",
   "execution_count": 31,
   "metadata": {},
   "outputs": [
    {
     "data": {
      "text/plain": [
       "'wrapper'"
      ]
     },
     "execution_count": 31,
     "metadata": {},
     "output_type": "execute_result"
    }
   ],
   "source": [
    "decorated_greet.__name__"
   ]
  },
  {
   "cell_type": "code",
   "execution_count": 32,
   "metadata": {},
   "outputs": [],
   "source": [
    "decorated_greet.__doc__"
   ]
  },
  {
   "cell_type": "markdown",
   "metadata": {},
   "source": [
    "Это делает отладку и работу с интерпретатором Python неуклюжей и трудоемкой. \n",
    "К счастью, существует быстрое решение этой проблемы: декоратор **functools.wraps**, включенный в стандартную библиотеку Python.\n",
    "\n",
    "Декоратор **functools.wraps** можно использовать в своих собственных декораторах для того, чтобы копировать потерянные метаданные из недекорированной функции в замыкание декоратора. Вот пример:"
   ]
  },
  {
   "cell_type": "code",
   "execution_count": 33,
   "metadata": {},
   "outputs": [],
   "source": [
    "import functools\n",
    "def uppercase(func):\n",
    "    @functools.wraps(func)\n",
    "    def wrapper():\n",
    "        return func().upper()\n",
    "    return wrapper"
   ]
  },
  {
   "cell_type": "markdown",
   "metadata": {},
   "source": [
    "Применение декоратора **functools.wraps** к замыканию-обертке, возвращаемому декоратором, переносит в него строку документации и другие метаданные входной функции:"
   ]
  },
  {
   "cell_type": "code",
   "execution_count": 34,
   "metadata": {},
   "outputs": [],
   "source": [
    "@uppercase \n",
    "def greet():\n",
    "    \"\"\"Вернуть дружеское приветствие.\"\"\"\n",
    "    return 'Привет!'"
   ]
  },
  {
   "cell_type": "code",
   "execution_count": 35,
   "metadata": {},
   "outputs": [
    {
     "data": {
      "text/plain": [
       "'greet'"
      ]
     },
     "execution_count": 35,
     "metadata": {},
     "output_type": "execute_result"
    }
   ],
   "source": [
    "greet.__name__"
   ]
  },
  {
   "cell_type": "code",
   "execution_count": 36,
   "metadata": {},
   "outputs": [
    {
     "data": {
      "text/plain": [
       "'Вернуть дружеское приветствие.'"
      ]
     },
     "execution_count": 36,
     "metadata": {},
     "output_type": "execute_result"
    }
   ],
   "source": [
    "greet.__doc__"
   ]
  },
  {
   "cell_type": "markdown",
   "metadata": {},
   "source": [
    "В качестве оптимального практического приема я порекомендовал бы использовать декоратор **functools.wraps** во всех декораторах, которые вы пишете сами. Это не займет много времени и уменьшит головную боль вам (и другим) в будущем при отладке."
   ]
  },
  {
   "cell_type": "markdown",
   "metadata": {},
   "source": [
    "## Измерение времени работы программы"
   ]
  },
  {
   "cell_type": "code",
   "execution_count": 37,
   "metadata": {},
   "outputs": [
    {
     "name": "stdout",
     "output_type": "stream",
     "text": [
      "[*] Время выполнения: 0.41301465034484863 секунд.\n"
     ]
    }
   ],
   "source": [
    "def benchmark(func):\n",
    "    import time    \n",
    "    def wrapper():\n",
    "        start = time.time()\n",
    "        func()\n",
    "        end = time.time()\n",
    "        print('[*] Время выполнения: {} секунд.'.format(end-start))\n",
    "    return wrapper\n",
    "\n",
    "@benchmark\n",
    "def fetch_webpage():\n",
    "    import requests\n",
    "    webpage = requests.get('https://google.com')\n",
    "\n",
    "fetch_webpage()"
   ]
  },
  {
   "cell_type": "code",
   "execution_count": 38,
   "metadata": {},
   "outputs": [
    {
     "name": "stdout",
     "output_type": "stream",
     "text": [
      "[*] Время выполнения: 0.2400069236755371 секунд.\n",
      "<!doctype html><html itemscope=\"\" itemtype=\"http://schema.org/WebPage\" lang=\"ru\"><head><meta content\n"
     ]
    }
   ],
   "source": [
    "def benchmark(func):\n",
    "    import time    \n",
    "    def wrapper(*args, **kwargs):\n",
    "        start = time.time()\n",
    "        return_value = func(*args, **kwargs)\n",
    "        end = time.time()\n",
    "        print('[*] Время выполнения: {} секунд.'.format(end-start))\n",
    "        return return_value\n",
    "    return wrapper\n",
    "\n",
    "@benchmark\n",
    "def fetch_webpage(url):\n",
    "    import requests\n",
    "    webpage = requests.get(url)\n",
    "    return webpage.text[:100]\n",
    "\n",
    "webpage = fetch_webpage('https://google.com')\n",
    "print(webpage)"
   ]
  },
  {
   "cell_type": "code",
   "execution_count": 39,
   "metadata": {},
   "outputs": [
    {
     "name": "stdout",
     "output_type": "stream",
     "text": [
      "[*] Среднее время выполнения: 0.2605084180831909 секунд.\n",
      "<!doctype html><html itemscope=\"\" itemtype=\"http://schema.org/WebPage\" lang=\"ru\"><head><meta content\n"
     ]
    }
   ],
   "source": [
    "def benchmark(iters):\n",
    "    def actual_decorator(func):\n",
    "        import time        \n",
    "        def wrapper(*args, **kwargs):\n",
    "            total = 0\n",
    "            for i in range(iters):\n",
    "                start = time.time()\n",
    "                return_value = func(*args, **kwargs)\n",
    "                end = time.time()\n",
    "                total = total + (end-start)\n",
    "            print('[*] Среднее время выполнения: {} секунд.'.format(total/iters))\n",
    "            return return_value\n",
    "        return wrapper\n",
    "    return actual_decorator\n",
    "\n",
    "\n",
    "@benchmark(iters=10)\n",
    "def fetch_webpage(url):\n",
    "    import requests\n",
    "    webpage = requests.get(url)\n",
    "    return webpage.text[:100]\n",
    "\n",
    "webpage = fetch_webpage('https://google.com')\n",
    "print(webpage)"
   ]
  },
  {
   "cell_type": "code",
   "execution_count": null,
   "metadata": {},
   "outputs": [],
   "source": []
  },
  {
   "cell_type": "code",
   "execution_count": 1,
   "metadata": {},
   "outputs": [
    {
     "ename": "RecursionError",
     "evalue": "maximum recursion depth exceeded",
     "output_type": "error",
     "traceback": [
      "\u001b[0;31m---------------------------------------------------------------------------\u001b[0m",
      "\u001b[0;31mRecursionError\u001b[0m                            Traceback (most recent call last)",
      "\u001b[0;32m<ipython-input-1-f317d4686a0e>\u001b[0m in \u001b[0;36m<module>\u001b[0;34m\u001b[0m\n\u001b[1;32m      2\u001b[0m     \u001b[0;32mreturn\u001b[0m \u001b[0mfib1\u001b[0m\u001b[0;34m(\u001b[0m\u001b[0mn\u001b[0m \u001b[0;34m-\u001b[0m \u001b[0;36m1\u001b[0m\u001b[0;34m)\u001b[0m \u001b[0;34m+\u001b[0m \u001b[0mfib1\u001b[0m\u001b[0;34m(\u001b[0m\u001b[0mn\u001b[0m \u001b[0;34m-\u001b[0m \u001b[0;36m2\u001b[0m\u001b[0;34m)\u001b[0m\u001b[0;34m\u001b[0m\u001b[0;34m\u001b[0m\u001b[0m\n\u001b[1;32m      3\u001b[0m \u001b[0;34m\u001b[0m\u001b[0m\n\u001b[0;32m----> 4\u001b[0;31m \u001b[0mprint\u001b[0m\u001b[0;34m(\u001b[0m\u001b[0mfib1\u001b[0m\u001b[0;34m(\u001b[0m\u001b[0;36m5\u001b[0m\u001b[0;34m)\u001b[0m\u001b[0;34m)\u001b[0m\u001b[0;34m\u001b[0m\u001b[0;34m\u001b[0m\u001b[0m\n\u001b[0m",
      "\u001b[0;32m<ipython-input-1-f317d4686a0e>\u001b[0m in \u001b[0;36mfib1\u001b[0;34m(n)\u001b[0m\n\u001b[1;32m      1\u001b[0m \u001b[0;32mdef\u001b[0m \u001b[0mfib1\u001b[0m\u001b[0;34m(\u001b[0m\u001b[0mn\u001b[0m\u001b[0;34m:\u001b[0m \u001b[0mint\u001b[0m\u001b[0;34m)\u001b[0m \u001b[0;34m->\u001b[0m \u001b[0mint\u001b[0m\u001b[0;34m:\u001b[0m\u001b[0;34m\u001b[0m\u001b[0;34m\u001b[0m\u001b[0m\n\u001b[0;32m----> 2\u001b[0;31m     \u001b[0;32mreturn\u001b[0m \u001b[0mfib1\u001b[0m\u001b[0;34m(\u001b[0m\u001b[0mn\u001b[0m \u001b[0;34m-\u001b[0m \u001b[0;36m1\u001b[0m\u001b[0;34m)\u001b[0m \u001b[0;34m+\u001b[0m \u001b[0mfib1\u001b[0m\u001b[0;34m(\u001b[0m\u001b[0mn\u001b[0m \u001b[0;34m-\u001b[0m \u001b[0;36m2\u001b[0m\u001b[0;34m)\u001b[0m\u001b[0;34m\u001b[0m\u001b[0;34m\u001b[0m\u001b[0m\n\u001b[0m\u001b[1;32m      3\u001b[0m \u001b[0;34m\u001b[0m\u001b[0m\n\u001b[1;32m      4\u001b[0m \u001b[0mprint\u001b[0m\u001b[0;34m(\u001b[0m\u001b[0mfib1\u001b[0m\u001b[0;34m(\u001b[0m\u001b[0;36m5\u001b[0m\u001b[0;34m)\u001b[0m\u001b[0;34m)\u001b[0m\u001b[0;34m\u001b[0m\u001b[0;34m\u001b[0m\u001b[0m\n",
      "... last 1 frames repeated, from the frame below ...\n",
      "\u001b[0;32m<ipython-input-1-f317d4686a0e>\u001b[0m in \u001b[0;36mfib1\u001b[0;34m(n)\u001b[0m\n\u001b[1;32m      1\u001b[0m \u001b[0;32mdef\u001b[0m \u001b[0mfib1\u001b[0m\u001b[0;34m(\u001b[0m\u001b[0mn\u001b[0m\u001b[0;34m:\u001b[0m \u001b[0mint\u001b[0m\u001b[0;34m)\u001b[0m \u001b[0;34m->\u001b[0m \u001b[0mint\u001b[0m\u001b[0;34m:\u001b[0m\u001b[0;34m\u001b[0m\u001b[0;34m\u001b[0m\u001b[0m\n\u001b[0;32m----> 2\u001b[0;31m     \u001b[0;32mreturn\u001b[0m \u001b[0mfib1\u001b[0m\u001b[0;34m(\u001b[0m\u001b[0mn\u001b[0m \u001b[0;34m-\u001b[0m \u001b[0;36m1\u001b[0m\u001b[0;34m)\u001b[0m \u001b[0;34m+\u001b[0m \u001b[0mfib1\u001b[0m\u001b[0;34m(\u001b[0m\u001b[0mn\u001b[0m \u001b[0;34m-\u001b[0m \u001b[0;36m2\u001b[0m\u001b[0;34m)\u001b[0m\u001b[0;34m\u001b[0m\u001b[0;34m\u001b[0m\u001b[0m\n\u001b[0m\u001b[1;32m      3\u001b[0m \u001b[0;34m\u001b[0m\u001b[0m\n\u001b[1;32m      4\u001b[0m \u001b[0mprint\u001b[0m\u001b[0;34m(\u001b[0m\u001b[0mfib1\u001b[0m\u001b[0;34m(\u001b[0m\u001b[0;36m5\u001b[0m\u001b[0;34m)\u001b[0m\u001b[0;34m)\u001b[0m\u001b[0;34m\u001b[0m\u001b[0;34m\u001b[0m\u001b[0m\n",
      "\u001b[0;31mRecursionError\u001b[0m: maximum recursion depth exceeded"
     ]
    }
   ],
   "source": [
    "def fib1(n: int) -> int:\n",
    "    return fib1(n - 1) + fib1(n - 2)\n",
    "\n",
    "print(fib1(5))"
   ]
  },
  {
   "cell_type": "code",
   "execution_count": 2,
   "metadata": {},
   "outputs": [
    {
     "name": "stdout",
     "output_type": "stream",
     "text": [
      "5\n",
      "55\n"
     ]
    }
   ],
   "source": [
    "def fib2(n: int) -> int:\n",
    "    if n < 2:  # base case\n",
    "        return n\n",
    "    return fib2(n - 2) + fib2(n - 1)  # recursive case\n",
    "\n",
    "print(fib2(5))\n",
    "print(fib2(10))"
   ]
  },
  {
   "cell_type": "code",
   "execution_count": 4,
   "metadata": {},
   "outputs": [
    {
     "name": "stdout",
     "output_type": "stream",
     "text": [
      "5\n",
      "12586269025\n"
     ]
    }
   ],
   "source": [
    "from typing import Dict\n",
    "memo: Dict[int, int] = {0: 0, 1: 1}  # our base cases\n",
    "\n",
    "def fib3(n: int) -> int:\n",
    "    if n not in memo:\n",
    "        memo[n] = fib3(n - 1) + fib3(n - 2)  # memoization\n",
    "    return memo[n]\n",
    "\n",
    "print(fib3(5))\n",
    "print(fib3(50))"
   ]
  },
  {
   "cell_type": "code",
   "execution_count": 5,
   "metadata": {},
   "outputs": [
    {
     "name": "stdout",
     "output_type": "stream",
     "text": [
      "5\n",
      "12586269025\n"
     ]
    }
   ],
   "source": [
    "from functools import lru_cache\n",
    "\n",
    "@lru_cache(maxsize=None)\n",
    "def fib4(n: int) -> int:  # same definition as fib2()\n",
    "    if n < 2:  # base case\n",
    "        return n\n",
    "    return fib4(n - 2) + fib4(n - 1)  # recursive case\n",
    "\n",
    "print(fib4(5))\n",
    "print(fib4(50))"
   ]
  },
  {
   "cell_type": "code",
   "execution_count": 6,
   "metadata": {},
   "outputs": [
    {
     "name": "stdout",
     "output_type": "stream",
     "text": [
      "1\n",
      "12586269025\n"
     ]
    }
   ],
   "source": [
    "def fib5(n: int) -> int:\n",
    "    if n == 0: return n  # special case\n",
    "    last: int = 0  # initially set to fib(0)\n",
    "    next: int = 1  # initially set to fib(1)\n",
    "    for _ in range(1, n):\n",
    "        last, next = next, last + next\n",
    "    return next\n",
    "\n",
    "print(fib5(2))\n",
    "print(fib5(50))"
   ]
  },
  {
   "cell_type": "code",
   "execution_count": 7,
   "metadata": {},
   "outputs": [
    {
     "name": "stdout",
     "output_type": "stream",
     "text": [
      "0\n",
      "1\n",
      "1\n",
      "2\n",
      "3\n",
      "5\n",
      "8\n",
      "13\n",
      "21\n",
      "34\n",
      "55\n",
      "89\n",
      "144\n",
      "233\n",
      "377\n",
      "610\n",
      "987\n",
      "1597\n",
      "2584\n",
      "4181\n",
      "6765\n",
      "10946\n",
      "17711\n",
      "28657\n",
      "46368\n",
      "75025\n",
      "121393\n",
      "196418\n",
      "317811\n",
      "514229\n",
      "832040\n",
      "1346269\n",
      "2178309\n",
      "3524578\n",
      "5702887\n",
      "9227465\n",
      "14930352\n",
      "24157817\n",
      "39088169\n",
      "63245986\n",
      "102334155\n",
      "165580141\n",
      "267914296\n",
      "433494437\n",
      "701408733\n",
      "1134903170\n",
      "1836311903\n",
      "2971215073\n",
      "4807526976\n",
      "7778742049\n",
      "12586269025\n"
     ]
    }
   ],
   "source": [
    "from typing import Generator\n",
    "\n",
    "def fib6(n: int) -> Generator[int, None, None]:\n",
    "    yield 0  # special case\n",
    "    if n > 0: yield 1  # special case\n",
    "    last: int = 0  # initially set to fib(0)\n",
    "    next: int = 1  # initially set to fib(1)\n",
    "    for _ in range(1, n):\n",
    "        last, next = next, last + next\n",
    "        yield next  # main generation step\n",
    "\n",
    "for i in fib6(50):\n",
    "    print(i)"
   ]
  },
  {
   "cell_type": "code",
   "execution_count": null,
   "metadata": {},
   "outputs": [],
   "source": []
  },
  {
   "cell_type": "markdown",
   "metadata": {},
   "source": [
    "## Задание 1"
   ]
  },
  {
   "cell_type": "markdown",
   "metadata": {},
   "source": [
    "Напишите декоратор **log**\n",
    "\n",
    "```python\n",
    ">>> @log\n",
    "... def function(*args):\n",
    "...... return 3 + len(args)\n",
    "\n",
    ">>> function(4, 4, 4)\n",
    "вы вызвали функцию function(4, 4, 4)\n",
    "она вернула значение 6\n",
    "6\n",
    "```"
   ]
  },
  {
   "cell_type": "code",
   "execution_count": null,
   "metadata": {},
   "outputs": [],
   "source": []
  },
  {
   "cell_type": "markdown",
   "metadata": {},
   "source": [
    "## Задание 2"
   ]
  },
  {
   "cell_type": "markdown",
   "metadata": {},
   "source": [
    "Напишите декоратор **html**, который в результате вызова **function('hi')** записывает в файл с именем \"my_file.html\" следующий текст:"
   ]
  },
  {
   "cell_type": "markdown",
   "metadata": {},
   "source": [
    "2019/11/27 10:55\n",
    "```html\n",
    "<html>\n",
    "<strong>'hi'</strong>\n",
    "</html>\n",
    "```\n",
    "\n",
    "*Подсказка:* время можно взять из time.strftime()\n",
    "\n",
    "Пример вызова декоратора:"
   ]
  },
  {
   "cell_type": "markdown",
   "metadata": {},
   "source": [
    "```python\n",
    ">>> @html\n",
    "... def function(s='hello'):\n",
    "...... return s\n",
    "\n",
    ">>> function('hi')\n",
    "```"
   ]
  },
  {
   "cell_type": "markdown",
   "metadata": {},
   "source": [
    "## Задание 3"
   ]
  },
  {
   "cell_type": "markdown",
   "metadata": {},
   "source": [
    "Напишите еще одну функцию, которая вычисляет n-й элемент последовательности Фибоначчи, используя метод вашей собственной разработки. Напишите модульные тесты, которые оценивали бы правильной этой функции и ее производительность, по сравнению с другими версиями."
   ]
  },
  {
   "cell_type": "code",
   "execution_count": null,
   "metadata": {},
   "outputs": [],
   "source": []
  }
 ],
 "metadata": {
  "kernelspec": {
   "display_name": "Python 3",
   "language": "python",
   "name": "python3"
  },
  "language_info": {
   "codemirror_mode": {
    "name": "ipython",
    "version": 3
   },
   "file_extension": ".py",
   "mimetype": "text/x-python",
   "name": "python",
   "nbconvert_exporter": "python",
   "pygments_lexer": "ipython3",
   "version": "3.7.3"
  }
 },
 "nbformat": 4,
 "nbformat_minor": 4
}
