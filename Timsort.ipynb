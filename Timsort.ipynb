{
 "cells": [
  {
   "cell_type": "markdown",
   "metadata": {},
   "source": [
    "https://ru.wikipedia.org/wiki/Timsort\n",
    "\n",
    "https://habr.com/ru/company/infopulse/blog/133303/\n",
    "\n",
    "https://habr.com/ru/post/251751/\n",
    "\n",
    "https://medium.com/@jupi.fish/timsort-%D0%B2-python-cb84837bd98a\n",
    "\n",
    "https://neerc.ifmo.ru/wiki/index.php?title=Timsort\n",
    "\n",
    "https://hackernoon.com/timsort-the-fastest-sorting-algorithm-youve-never-heard-of-36b28417f399"
   ]
  },
  {
   "cell_type": "code",
   "execution_count": null,
   "metadata": {},
   "outputs": [],
   "source": []
  }
 ],
 "metadata": {
  "kernelspec": {
   "display_name": "Python 3",
   "language": "python",
   "name": "python3"
  },
  "language_info": {
   "codemirror_mode": {
    "name": "ipython",
    "version": 3
   },
   "file_extension": ".py",
   "mimetype": "text/x-python",
   "name": "python",
   "nbconvert_exporter": "python",
   "pygments_lexer": "ipython3",
   "version": "3.8.3"
  }
 },
 "nbformat": 4,
 "nbformat_minor": 4
}
